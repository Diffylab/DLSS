{
 "cells": [
  {
   "cell_type": "code",
   "execution_count": 3,
   "metadata": {},
   "outputs": [],
   "source": [
    "import keras\n",
    "from keras.models import Sequential\n",
    "from keras.layers import Dense, Dropout, Flatten\n",
    "from keras.layers import Conv2D, MaxPooling2D, Conv3D, BatchNormalization\n",
    "from keras import backend as K\n",
    "import os\n",
    "from PIL import Image\n",
    "import numpy as np\n",
    "from sklearn.model_selection import train_test_split\n",
    "import matplotlib.pyplot as plt\n",
    "from matplotlib.pyplot import imshow\n",
    "from random import randrange\n",
    "from keras.layers import Input, Reshape, Dropout\n",
    "from keras.layers import BatchNormalization, Activation, ZeroPadding2D\n",
    "from keras.layers.advanced_activations import LeakyReLU\n",
    "from keras.layers.convolutional import UpSampling2D, Conv2D\n",
    "from keras.models import Sequential, Model\n",
    "from keras.callbacks import EarlyStopping\n",
    "from keras.models import load_model"
   ]
  },
  {
   "cell_type": "code",
   "execution_count": 4,
   "metadata": {},
   "outputs": [
    {
     "name": "stdout",
     "output_type": "stream",
     "text": [
      "WARNING:tensorflow:From C:\\Users\\Vee\\Anaconda3\\lib\\site-packages\\keras\\backend\\tensorflow_backend.py:422: The name tf.global_variables is deprecated. Please use tf.compat.v1.global_variables instead.\n",
      "\n"
     ]
    }
   ],
   "source": [
    "model = load_model('DLSS League.h5')"
   ]
  },
  {
   "cell_type": "code",
   "execution_count": null,
   "metadata": {},
   "outputs": [],
   "source": [
    "paths = []\n",
    "for r, d, f in os.walk(r\"D:\\DF\\workspace\\convert\"):\n",
    "    for file in f:\n",
    "        if '.png' in file:\n",
    "            paths.append(os.path.join(r, file))\n",
    "count = 0\n",
    "for path in paths:\n",
    "    #select image\n",
    "    img = Image.open(path)\n",
    "\n",
    "    #create plot\n",
    "    f, axarr = plt.subplots(1,3,figsize=(15,15),gridspec_kw={'width_ratios': [1,4,4]})\n",
    "    axarr[0].set_xlabel('Original Image (64x64)', fontsize=10)\n",
    "    axarr[1].set_xlabel('Interpolated Image (256x256)', fontsize=10)\n",
    "    axarr[2].set_xlabel('Super Sampled Image (256x256)', fontsize=10)\n",
    "\n",
    "    #original image\n",
    "    x = img.resize((64,64))\n",
    "    #interpolated (resized) image\n",
    "    y = x.resize((256,256))\n",
    "    #plotting first two images\n",
    "    x = np.array(x)\n",
    "    y = np.array(y)\n",
    "    axarr[0].imshow(x)\n",
    "    axarr[1].imshow(y)\n",
    "    #plotting super sampled image\n",
    "    x = x.reshape(1,64,64,3)/256\n",
    "    result = np.array(model.predict_on_batch(x))*256\n",
    "    result = result.reshape(256,256,3)\n",
    "    result = result.astype(int)\n",
    "    axarr[2].imshow(result)\n",
    "    f.savefig(r\"C:\\Users\\Vee\\Desktop\\python\\CNNs\\data\\super\\frame_%d.png\" % count)\n",
    "    count = count + 1"
   ]
  }
 ],
 "metadata": {
  "kernelspec": {
   "display_name": "Python 3",
   "language": "python",
   "name": "python3"
  },
  "language_info": {
   "codemirror_mode": {
    "name": "ipython",
    "version": 3
   },
   "file_extension": ".py",
   "mimetype": "text/x-python",
   "name": "python",
   "nbconvert_exporter": "python",
   "pygments_lexer": "ipython3",
   "version": "3.7.3"
  }
 },
 "nbformat": 4,
 "nbformat_minor": 2
}
